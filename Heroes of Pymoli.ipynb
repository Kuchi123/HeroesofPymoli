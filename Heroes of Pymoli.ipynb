{
 "cells": [
  {
   "cell_type": "code",
   "execution_count": 1,
   "metadata": {},
   "outputs": [
    {
     "name": "stdout",
     "output_type": "stream",
     "text": [
      "   Total Players\n",
      "0            576\n"
     ]
    }
   ],
   "source": [
    "import pandas as pd\n",
    "purchase_data = pd.read_csv(\"C:/Users/Sam Kumar/Desktop/HeroesofPymoli.csv\")\n",
    "player = purchase_data['SN'].nunique()\n",
    "players = pd.DataFrame({\"Total Players\": [player]})\n",
    "print(players)"
   ]
  },
  {
   "cell_type": "code",
   "execution_count": 2,
   "metadata": {},
   "outputs": [
    {
     "name": "stdout",
     "output_type": "stream",
     "text": [
      "   Number of Unique Items  Average Price  Number of Purchases  Total Revenue\n",
      "0                     179       3.050987                  780        2379.77\n"
     ]
    }
   ],
   "source": [
    "purchase_analysis = pd.DataFrame({\"Number of Unique Items\" : purchase_data['Item Name'].nunique(),\"Average Price\": \n",
    "                                  purchase_data['Price'].mean(),\"Number of Purchases\":\n",
    "                                      len(purchase_data.index), \"Total Revenue\":\n",
    "                                        purchase_data['Price'].sum() }, index = [0])\n",
    "    \n",
    "print(purchase_analysis)"
   ]
  },
  {
   "cell_type": "code",
   "execution_count": 3,
   "metadata": {},
   "outputs": [
    {
     "name": "stdout",
     "output_type": "stream",
     "text": [
      "                    Total Count:  Percentage (%):\n",
      "Male                         484        84.027778\n",
      "Female                        81        14.062500\n",
      "Other/NonDisclosed            11         1.909722\n"
     ]
    }
   ],
   "source": [
    "male_df = purchase_data[purchase_data['Gender'] == 'Male']\n",
    "female_df = purchase_data[purchase_data['Gender'] == 'Female']\n",
    "other_df = purchase_data[purchase_data['Gender'] == 'Other / Non-Disclosed']\n",
    "mpercent = (male_df[\"SN\"].nunique()*100)/(player)\n",
    "fpercent = (female_df[\"SN\"].nunique()*100)/(player)\n",
    "opercent = (other_df[\"SN\"].nunique()*100)/(player)\n",
    "gender_analysis = pd.DataFrame({'Total Count:': [male_df[\"SN\"].nunique(),\n",
    "                                female_df[\"SN\"].nunique(), other_df[\"SN\"].nunique()],\n",
    "                                'Percentage (%):' : [mpercent, fpercent, opercent] }, index = ['Male', 'Female','Other/NonDisclosed'])\n",
    "\n",
    "print(gender_analysis)"
   ]
  },
  {
   "cell_type": "code",
   "execution_count": 4,
   "metadata": {},
   "outputs": [
    {
     "name": "stdout",
     "output_type": "stream",
     "text": [
      "                    Total Count  Total Purchase Price:  \\\n",
      "Male                        652                1967.64   \n",
      "Female                      113                 361.94   \n",
      "Other/NonDisclosed           15                  50.19   \n",
      "\n",
      "                    Average Purchase Price  Average Total Purchase per Person:  \n",
      "Male                              3.017853                            4.065372  \n",
      "Female                            3.203009                            4.468395  \n",
      "Other/NonDisclosed                3.346000                            4.562727  \n"
     ]
    }
   ],
   "source": [
    "males =len(male_df.index)\n",
    "females = len(female_df.index)\n",
    "other = len(other_df.index)\n",
    "totalrevother = other_df['Price'].sum()\n",
    "gender_analysis2 = pd.DataFrame({\"Total Count\": [males, females, other],\n",
    "                                 \"Total Purchase Price:\":[male_df['Price'].sum(), female_df['Price'].sum(),\n",
    "                                 totalrevother], \"Average Purchase Price\" :\n",
    "                                [male_df['Price'].mean(), female_df['Price'].mean(), other_df['Price'].mean()],\n",
    "                                \"Average Total Purchase per Person:\" : [(male_df['Price'].sum()/male_df[\"SN\"].nunique()),female_df['Price'].sum()/female_df[\"SN\"].nunique()\n",
    "                                ,(other_df['Price'].sum()/other_df[\"SN\"].nunique())]}, index =['Male', 'Female','Other/NonDisclosed'] )\n",
    "print(gender_analysis2)"
   ]
  },
  {
   "cell_type": "code",
   "execution_count": 5,
   "metadata": {},
   "outputs": [
    {
     "name": "stdout",
     "output_type": "stream",
     "text": [
      "  Age range  Total Amount  percentage (%)\n",
      "0       <10            17        2.951389\n",
      "1     10-14            22        3.819444\n",
      "2     15-19           107       18.576389\n",
      "3     20-24           258       44.791667\n",
      "4     25-29            77       13.368056\n",
      "5     30-34            52        9.027778\n",
      "6     35-39            31        5.381944\n",
      "7       40+            12        2.083333\n"
     ]
    }
   ],
   "source": [
    "buckets = [0,9,14,19,24,29,34,39, 1000]\n",
    "\n",
    "bucket_names = [\"<10\", \"10-14\", \"15-19\", \"20-24\", \"25-29\",\"30-34\", \"35-39\",\"40+\"]\n",
    "purchase_data[\"Age range\"] = pd.cut(purchase_data[\"Age\"],buckets, labels = bucket_names)\n",
    "\n",
    "new_group = purchase_data.drop_duplicates(subset =['SN'])\n",
    "new_group= new_group.sort_values(by=['Age'])\n",
    "Agerange = new_group.groupby('Age range').Age.count().reset_index(name ='Total Amount')\n",
    "Agerange['percentage (%)'] = (Agerange['Total Amount']/576)*100\n",
    "print(Agerange)"
   ]
  },
  {
   "cell_type": "code",
   "execution_count": 6,
   "metadata": {},
   "outputs": [
    {
     "name": "stdout",
     "output_type": "stream",
     "text": [
      "           Purchase Count  Total Purchase Value  Average Purchase Price  \\\n",
      "Age range                                                                 \n",
      "<10                    23                 77.13                3.353478   \n",
      "10-14                  28                 82.78                2.956429   \n",
      "15-19                 136                412.89                3.035956   \n",
      "20-24                 365               1114.06                3.052219   \n",
      "25-29                 101                293.00                2.900990   \n",
      "30-34                  73                214.00                2.931507   \n",
      "35-39                  41                147.67                3.601707   \n",
      "40+                    13                 38.24                2.941538   \n",
      "\n",
      "           Average Purchase Per Person  \n",
      "Age range                               \n",
      "<10                           4.537059  \n",
      "10-14                         3.762727  \n",
      "15-19                         3.858785  \n",
      "20-24                         4.318062  \n",
      "25-29                         3.805195  \n",
      "30-34                         4.115385  \n",
      "35-39                         4.763548  \n",
      "40+                           3.186667  \n"
     ]
    }
   ],
   "source": [
    "age_range = purchase_data.groupby('Age range')['Price'].agg(['count','sum','mean'])\n",
    "age_range2 = age_range.rename({'count': 'Purchase Count', 'sum': 'Total Purchase Value', 'mean' : 'Average Purchase Price'}, axis='columns')\n",
    "age_range2['Unique people'] = Agerange['Total Amount'].values\n",
    "age_range2['Average Purchase Per Person'] = age_range2['Total Purchase Value']/age_range2['Unique people']\n",
    "age_range2 = age_range2.drop('Unique people', 1)\n",
    "print(age_range2)"
   ]
  },
  {
   "cell_type": "code",
   "execution_count": 7,
   "metadata": {},
   "outputs": [
    {
     "name": "stdout",
     "output_type": "stream",
     "text": [
      "             Purchase count  Average Purchase Price  Total Purchase Value\n",
      "SN                                                                       \n",
      "Lisosia93                 5                3.792000                 18.96\n",
      "Iral74                    4                3.405000                 13.62\n",
      "Idastidru52               4                3.862500                 15.45\n",
      "Asur53                    3                2.480000                  7.44\n",
      "Inguron55                 3                3.703333                 11.11\n"
     ]
    }
   ],
   "source": [
    "df_8 = purchase_data.groupby('SN')['Price'].agg(['count','mean','sum'])\n",
    "df_8 = df_8.rename({'count':'Purchase count', 'mean': 'Average Purchase Price','sum': 'Total Purchase Value' }, axis = 'columns')\n",
    "df_8 = df_8.sort_values(\"Purchase count\", ascending = False)\n",
    "print(df_8.head())"
   ]
  },
  {
   "cell_type": "code",
   "execution_count": 8,
   "metadata": {},
   "outputs": [
    {
     "name": "stdout",
     "output_type": "stream",
     "text": [
      "         Purchase count  Total Purchase Value  Item Price\n",
      "Item ID                                                  \n",
      "92                   13                 59.99    4.614615\n",
      "178                  12                 50.76    4.230000\n",
      "145                   9                 41.22    4.580000\n",
      "132                   9                 28.99    3.221111\n",
      "108                   9                 31.77    3.530000\n"
     ]
    }
   ],
   "source": [
    "df_9 = purchase_data.groupby('Item ID')['Price'].agg(['count','sum','mean'])\n",
    "df_9 = df_9.rename({'count':'Purchase count', 'sum' : 'Total Purchase Value', 'mean': 'Item Price'}, axis = 'columns')\n",
    "df_9 = df_9.sort_values(by =\"Purchase count\", ascending = False)\n",
    "print(df_9.head())"
   ]
  },
  {
   "cell_type": "code",
   "execution_count": 9,
   "metadata": {},
   "outputs": [
    {
     "name": "stdout",
     "output_type": "stream",
     "text": [
      "         Purchase count  Total Purchase Value  Item Price\n",
      "Item ID                                                  \n",
      "92                   13                 59.99    4.614615\n",
      "178                  12                 50.76    4.230000\n",
      "82                    9                 44.10    4.900000\n",
      "145                   9                 41.22    4.580000\n",
      "103                   8                 34.80    4.350000\n"
     ]
    }
   ],
   "source": [
    "df_10 = df_9.sort_values(by = \"Total Purchase Value\", ascending = False)\n",
    "print(df_10.head())"
   ]
  },
  {
   "cell_type": "code",
   "execution_count": null,
   "metadata": {},
   "outputs": [],
   "source": []
  }
 ],
 "metadata": {
  "kernelspec": {
   "display_name": "Python 3",
   "language": "python",
   "name": "python3"
  },
  "language_info": {
   "codemirror_mode": {
    "name": "ipython",
    "version": 3
   },
   "file_extension": ".py",
   "mimetype": "text/x-python",
   "name": "python",
   "nbconvert_exporter": "python",
   "pygments_lexer": "ipython3",
   "version": "3.8.5"
  }
 },
 "nbformat": 4,
 "nbformat_minor": 4
}
